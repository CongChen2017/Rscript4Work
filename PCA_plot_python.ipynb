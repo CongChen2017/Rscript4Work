{
 "cells": [
  {
   "cell_type": "code",
   "execution_count": 1,
   "metadata": {
    "collapsed": true
   },
   "outputs": [],
   "source": [
    "# dependencies\n",
    "import pandas as pd\n",
    "import numpy as np\n",
    "import matplotlib.pyplot as plt\n",
    "from sklearn.decomposition import PCA\n",
    "from sklearn import preprocessing"
   ]
  },
  {
   "cell_type": "code",
   "execution_count": 2,
   "metadata": {
    "collapsed": true
   },
   "outputs": [],
   "source": [
    "# read in data (raw counts from RNA-seq or Quantseq)\n",
    "data = pd.read_csv(\"htseq_all_counts_AM.csv\", index_col=0)"
   ]
  },
  {
   "cell_type": "code",
   "execution_count": 3,
   "metadata": {},
   "outputs": [
    {
     "data": {
      "text/html": [
       "<div>\n",
       "<style>\n",
       "    .dataframe thead tr:only-child th {\n",
       "        text-align: right;\n",
       "    }\n",
       "\n",
       "    .dataframe thead th {\n",
       "        text-align: left;\n",
       "    }\n",
       "\n",
       "    .dataframe tbody tr th {\n",
       "        vertical-align: top;\n",
       "    }\n",
       "</style>\n",
       "<table border=\"1\" class=\"dataframe\">\n",
       "  <thead>\n",
       "    <tr style=\"text-align: right;\">\n",
       "      <th></th>\n",
       "      <th>M01.AM.1F968.CD11c.Mid.01</th>\n",
       "      <th>M01.AM.1F970.CD11c.Mid.02</th>\n",
       "      <th>M01.AM.1F971.CD11c.Mid.03</th>\n",
       "      <th>M01.AM.1F973.CD11c.Mid.04</th>\n",
       "      <th>M01.AM.2M118.LysM.Mid.01</th>\n",
       "      <th>M01.AM.2M121.LysM.Mid.02</th>\n",
       "      <th>M01.AM.2M125.LysM.Mid.03</th>\n",
       "      <th>M01.AM.2M126.LysM.Mid.04</th>\n",
       "      <th>M01.AM.M859.Ctrl.Mid.01</th>\n",
       "      <th>M01.AM.M862.Ctrl.Mid.02</th>\n",
       "      <th>M01.AM.M863.Ctrl.Mid.03</th>\n",
       "      <th>M01.AM.M864.Ctrl.Mid.04</th>\n",
       "    </tr>\n",
       "  </thead>\n",
       "  <tbody>\n",
       "    <tr>\n",
       "      <th>ENSMUSG00000000001</th>\n",
       "      <td>1422</td>\n",
       "      <td>1014</td>\n",
       "      <td>877</td>\n",
       "      <td>1157</td>\n",
       "      <td>2020</td>\n",
       "      <td>1679</td>\n",
       "      <td>1314</td>\n",
       "      <td>1353</td>\n",
       "      <td>741</td>\n",
       "      <td>1385</td>\n",
       "      <td>1101</td>\n",
       "      <td>2246</td>\n",
       "    </tr>\n",
       "    <tr>\n",
       "      <th>ENSMUSG00000000003</th>\n",
       "      <td>0</td>\n",
       "      <td>0</td>\n",
       "      <td>0</td>\n",
       "      <td>0</td>\n",
       "      <td>0</td>\n",
       "      <td>0</td>\n",
       "      <td>0</td>\n",
       "      <td>0</td>\n",
       "      <td>0</td>\n",
       "      <td>0</td>\n",
       "      <td>0</td>\n",
       "      <td>0</td>\n",
       "    </tr>\n",
       "    <tr>\n",
       "      <th>ENSMUSG00000000028</th>\n",
       "      <td>38</td>\n",
       "      <td>38</td>\n",
       "      <td>19</td>\n",
       "      <td>37</td>\n",
       "      <td>59</td>\n",
       "      <td>55</td>\n",
       "      <td>57</td>\n",
       "      <td>35</td>\n",
       "      <td>23</td>\n",
       "      <td>59</td>\n",
       "      <td>30</td>\n",
       "      <td>105</td>\n",
       "    </tr>\n",
       "    <tr>\n",
       "      <th>ENSMUSG00000000031</th>\n",
       "      <td>0</td>\n",
       "      <td>0</td>\n",
       "      <td>0</td>\n",
       "      <td>0</td>\n",
       "      <td>0</td>\n",
       "      <td>1</td>\n",
       "      <td>0</td>\n",
       "      <td>1</td>\n",
       "      <td>0</td>\n",
       "      <td>0</td>\n",
       "      <td>0</td>\n",
       "      <td>0</td>\n",
       "    </tr>\n",
       "    <tr>\n",
       "      <th>ENSMUSG00000000037</th>\n",
       "      <td>0</td>\n",
       "      <td>1</td>\n",
       "      <td>0</td>\n",
       "      <td>1</td>\n",
       "      <td>0</td>\n",
       "      <td>2</td>\n",
       "      <td>0</td>\n",
       "      <td>1</td>\n",
       "      <td>3</td>\n",
       "      <td>2</td>\n",
       "      <td>1</td>\n",
       "      <td>2</td>\n",
       "    </tr>\n",
       "  </tbody>\n",
       "</table>\n",
       "</div>"
      ],
      "text/plain": [
       "                    M01.AM.1F968.CD11c.Mid.01  M01.AM.1F970.CD11c.Mid.02  \\\n",
       "ENSMUSG00000000001                       1422                       1014   \n",
       "ENSMUSG00000000003                          0                          0   \n",
       "ENSMUSG00000000028                         38                         38   \n",
       "ENSMUSG00000000031                          0                          0   \n",
       "ENSMUSG00000000037                          0                          1   \n",
       "\n",
       "                    M01.AM.1F971.CD11c.Mid.03  M01.AM.1F973.CD11c.Mid.04  \\\n",
       "ENSMUSG00000000001                        877                       1157   \n",
       "ENSMUSG00000000003                          0                          0   \n",
       "ENSMUSG00000000028                         19                         37   \n",
       "ENSMUSG00000000031                          0                          0   \n",
       "ENSMUSG00000000037                          0                          1   \n",
       "\n",
       "                    M01.AM.2M118.LysM.Mid.01  M01.AM.2M121.LysM.Mid.02  \\\n",
       "ENSMUSG00000000001                      2020                      1679   \n",
       "ENSMUSG00000000003                         0                         0   \n",
       "ENSMUSG00000000028                        59                        55   \n",
       "ENSMUSG00000000031                         0                         1   \n",
       "ENSMUSG00000000037                         0                         2   \n",
       "\n",
       "                    M01.AM.2M125.LysM.Mid.03  M01.AM.2M126.LysM.Mid.04  \\\n",
       "ENSMUSG00000000001                      1314                      1353   \n",
       "ENSMUSG00000000003                         0                         0   \n",
       "ENSMUSG00000000028                        57                        35   \n",
       "ENSMUSG00000000031                         0                         1   \n",
       "ENSMUSG00000000037                         0                         1   \n",
       "\n",
       "                    M01.AM.M859.Ctrl.Mid.01  M01.AM.M862.Ctrl.Mid.02  \\\n",
       "ENSMUSG00000000001                      741                     1385   \n",
       "ENSMUSG00000000003                        0                        0   \n",
       "ENSMUSG00000000028                       23                       59   \n",
       "ENSMUSG00000000031                        0                        0   \n",
       "ENSMUSG00000000037                        3                        2   \n",
       "\n",
       "                    M01.AM.M863.Ctrl.Mid.03  M01.AM.M864.Ctrl.Mid.04  \n",
       "ENSMUSG00000000001                     1101                     2246  \n",
       "ENSMUSG00000000003                        0                        0  \n",
       "ENSMUSG00000000028                       30                      105  \n",
       "ENSMUSG00000000031                        0                        0  \n",
       "ENSMUSG00000000037                        1                        2  "
      ]
     },
     "execution_count": 3,
     "metadata": {},
     "output_type": "execute_result"
    }
   ],
   "source": [
    "# check data format\n",
    "data.head()"
   ]
  },
  {
   "cell_type": "code",
   "execution_count": 4,
   "metadata": {},
   "outputs": [],
   "source": [
    "# prepare variables for later steps\n",
    "index = data.columns\n",
    "genes = data.index"
   ]
  },
  {
   "cell_type": "code",
   "execution_count": 5,
   "metadata": {
    "collapsed": true
   },
   "outputs": [],
   "source": [
    "# center and scale data before PCA, by passing transposed data\n",
    "scaled_data = preprocessing.scale(data.T)\n",
    "\n",
    "# another way to scale data\n",
    "# StandardScaler().fit_transform(data.T)"
   ]
  },
  {
   "cell_type": "code",
   "execution_count": 6,
   "metadata": {
    "collapsed": true
   },
   "outputs": [],
   "source": [
    "# define a PCA object\n",
    "pca=PCA()"
   ]
  },
  {
   "cell_type": "code",
   "execution_count": 7,
   "metadata": {},
   "outputs": [
    {
     "data": {
      "text/plain": [
       "PCA(copy=True, iterated_power='auto', n_components=None, random_state=None,\n",
       "  svd_solver='auto', tol=0.0, whiten=False)"
      ]
     },
     "execution_count": 7,
     "metadata": {},
     "output_type": "execute_result"
    }
   ],
   "source": [
    "# fit the scaled data, do all the PCA math\n",
    "pca.fit(scaled_data)"
   ]
  },
  {
   "cell_type": "code",
   "execution_count": 8,
   "metadata": {
    "collapsed": true
   },
   "outputs": [],
   "source": [
    "# generate coordinates for PCA graph based on loading scores and the scaled data\n",
    "pca_data = pca.transform(scaled_data)"
   ]
  },
  {
   "cell_type": "code",
   "execution_count": 9,
   "metadata": {
    "collapsed": true
   },
   "outputs": [],
   "source": [
    "# calculate the percentage of variation for each principal component\n",
    "per_var = np.round(pca.explained_variance_ratio_* 100, decimals=1)\n",
    "# create labels for each principle component\n",
    "labels = ['PC' + str(x) for x in range(1, len(per_var)+1)]"
   ]
  },
  {
   "cell_type": "code",
   "execution_count": 10,
   "metadata": {},
   "outputs": [
    {
     "data": {
      "image/png": "[encoded data removed]",
      "text/plain": [
       "<matplotlib.figure.Figure at 0x112fe0438>"
      ]
     },
     "metadata": {},
     "output_type": "display_data"
    }
   ],
   "source": [
    "# generate scree plot\n",
    "fig = plt.figure(figsize=(10,6))\n",
    "x=range(1,len(per_var)+1)\n",
    "plt.bar(x, height=per_var, tick_label=labels)\n",
    "plt.ylabel(\"Percentage of Explained Variance\")\n",
    "plt.xlabel(\"Principal Component\")\n",
    "plt.title(\"Scree Plot\")\n",
    "plt.show()"
   ]
  },
  {
   "cell_type": "code",
   "execution_count": 11,
   "metadata": {
    "collapsed": true
   },
   "outputs": [],
   "source": [
    "# generate data frame for PCA plot\n",
    "pca_df = pd.DataFrame(pca_data, index=index, columns=labels)"
   ]
  },
  {
   "cell_type": "code",
   "execution_count": 12,
   "metadata": {},
   "outputs": [
    {
     "data": {
      "image/png": "[encoded data removed]",
      "text/plain": [
       "<matplotlib.figure.Figure at 0x112ffe9e8>"
      ]
     },
     "metadata": {},
     "output_type": "display_data"
    }
   ],
   "source": [
    "# generate PCA plot\n",
    "fig = plt.figure(figsize=(8,6))\n",
    "plt.scatter(pca_df.PC1, pca_df.PC2, c=['r','r','r','r','b','b','b','b','g','g','g','g'])\n",
    "plt.title(\"PCA Graph\")\n",
    "plt.xlabel(f\"PC1 - {per_var[0]}%\")\n",
    "plt.ylabel(f\"PC2 - {per_var[1]}%\")\n",
    "# add sample names to the graph\n",
    "# for sample in pca_df.index:\n",
    "#     plt.annotate(sample, (pca_df.PC1.loc[sample], pca_df.PC2.loc[sample]))\n",
    "plt.show()"
   ]
  },
  {
   "cell_type": "code",
   "execution_count": 13,
   "metadata": {},
   "outputs": [
    {
     "name": "stdout",
     "output_type": "stream",
     "text": [
      "ENSMUSG00000071646    0.009431\n",
      "ENSMUSG00000027365    0.009431\n",
      "ENSMUSG00000048076    0.009431\n",
      "ENSMUSG00000023048    0.009430\n",
      "ENSMUSG00000023175    0.009430\n",
      "ENSMUSG00000031819    0.009429\n",
      "ENSMUSG00000006519    0.009428\n",
      "ENSMUSG00000021248    0.009428\n",
      "ENSMUSG00000013160    0.009426\n",
      "ENSMUSG00000032562    0.009426\n",
      "dtype: float64\n"
     ]
    }
   ],
   "source": [
    "# based loading scores of PC1 find top 10 genes with most influence\n",
    "loading_scores = pd.Series(pca.components_[0], index=genes)\n",
    "sorted_loading_scores = loading_scores.abs().sort_values(ascending=False)\n",
    "top_10_genes = sorted_loading_scores[0:10].index.values\n",
    "print(loading_scores[top_10_genes])"
   ]
  },
  {
   "cell_type": "code",
   "execution_count": null,
   "metadata": {
    "collapsed": true
   },
   "outputs": [],
   "source": []
  }
 ],
 "metadata": {
  "kernelspec": {
   "display_name": "Python 3",
   "language": "python",
   "name": "python3"
  },
  "language_info": {
   "codemirror_mode": {
    "name": "ipython",
    "version": 3
   },
   "file_extension": ".py",
   "mimetype": "text/x-python",
   "name": "python",
   "nbconvert_exporter": "python",
   "pygments_lexer": "ipython3",
   "version": "3.6.1"
  }
 },
 "nbformat": 4,
 "nbformat_minor": 2
}
